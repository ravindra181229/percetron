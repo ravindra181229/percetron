{
 "cells": [
  {
   "cell_type": "code",
   "execution_count": 44,
   "id": "21460b4a",
   "metadata": {},
   "outputs": [],
   "source": [
    "import os\n",
    "import matplotlib.pyplot as plt\n",
    "import pandas as pd\n",
    "import numpy as np\n",
    "import joblib\n",
    "\n",
    "plt.style.use(\"fivethirtyeight\")"
   ]
  },
  {
   "cell_type": "code",
   "execution_count": 6,
   "id": "1ee21292",
   "metadata": {},
   "outputs": [
    {
     "name": "stdout",
     "output_type": "stream",
     "text": [
      "Requirement already satisfied: joblib in c:\\users\\snopy\\favorites\\downloads\\new folder\\day-02\\percetron\\env\\lib\\site-packages (1.1.0)\n"
     ]
    }
   ],
   "source": [
    "!pip install joblib"
   ]
  },
  {
   "cell_type": "code",
   "execution_count": 59,
   "id": "744171da",
   "metadata": {},
   "outputs": [],
   "source": [
    "#main\n",
    "class perceptron:\n",
    "    \n",
    "    def __init__(self,eta: float=None,epochs: int=None):\n",
    "        self.weights = np.random.randn(3) * 1e-4\n",
    "        self.eta = eta #learning rate\n",
    "        self.epochs = epochs #iterations\n",
    "        \n",
    "    def _z_outcome(self, inputs, weights):\n",
    "        return np.dot(inputs,weights)\n",
    "        \n",
    "    def activation_function(self, z):\n",
    "        return np.where(z > 0, 1, 0)\n",
    "        \n",
    "    def fit(self,x,y):\n",
    "        self.x = x\n",
    "        self.y = y\n",
    "        \n",
    "        x_with_bias = np.c_[self.x,-np.ones((len(self.x), 1))]\n",
    "        print(f\"x with bias :\\n{x_with_bias}\")\n",
    "        \n",
    "        for epoch in range(self.epochs):\n",
    "            print('--'*10)\n",
    "            print(f\"for epoch >> {epoch + 1}\")\n",
    "            print('--'*10)\n",
    "            z = self._z_outcome(x_with_bias,self.weights)\n",
    "            y_hat = self.activation_function(z)\n",
    "            print(f\"predicted value after the forward pass: \\n{y_hat}\")\n",
    "            \n",
    "            self.error = self.y - y_hat\n",
    "            print(f\"error : \\n{self.error}\")\n",
    "    \n",
    "            self.weights = self.weights + self.eta * np.dot(x_with_bias.T, self.error)\n",
    "            print(f\"updated weight after epoch: {epoch + 1}/{self.epochs}: \\n{self.weights}\")\n",
    "            print(f\"$$\"*10)\n",
    "            \n",
    "            \n",
    "    def predict(self,x):\n",
    "        x_with_bias = np.c_[x,-np.ones((len(x), 1))]\n",
    "        z = self._z_outcome(x_with_bias, self.weights)\n",
    "        return self.activation_function(z)\n",
    "        "
   ]
  },
  {
   "cell_type": "code",
   "execution_count": 60,
   "id": "9f262764",
   "metadata": {},
   "outputs": [
    {
     "data": {
      "text/html": [
       "<div>\n",
       "<style scoped>\n",
       "    .dataframe tbody tr th:only-of-type {\n",
       "        vertical-align: middle;\n",
       "    }\n",
       "\n",
       "    .dataframe tbody tr th {\n",
       "        vertical-align: top;\n",
       "    }\n",
       "\n",
       "    .dataframe thead th {\n",
       "        text-align: right;\n",
       "    }\n",
       "</style>\n",
       "<table border=\"1\" class=\"dataframe\">\n",
       "  <thead>\n",
       "    <tr style=\"text-align: right;\">\n",
       "      <th></th>\n",
       "      <th>x1</th>\n",
       "      <th>x2</th>\n",
       "      <th>y</th>\n",
       "    </tr>\n",
       "  </thead>\n",
       "  <tbody>\n",
       "    <tr>\n",
       "      <th>0</th>\n",
       "      <td>0</td>\n",
       "      <td>0</td>\n",
       "      <td>0</td>\n",
       "    </tr>\n",
       "    <tr>\n",
       "      <th>1</th>\n",
       "      <td>0</td>\n",
       "      <td>1</td>\n",
       "      <td>1</td>\n",
       "    </tr>\n",
       "    <tr>\n",
       "      <th>2</th>\n",
       "      <td>1</td>\n",
       "      <td>0</td>\n",
       "      <td>1</td>\n",
       "    </tr>\n",
       "    <tr>\n",
       "      <th>3</th>\n",
       "      <td>1</td>\n",
       "      <td>1</td>\n",
       "      <td>1</td>\n",
       "    </tr>\n",
       "  </tbody>\n",
       "</table>\n",
       "</div>"
      ],
      "text/plain": [
       "   x1  x2  y\n",
       "0   0   0  0\n",
       "1   0   1  1\n",
       "2   1   0  1\n",
       "3   1   1  1"
      ]
     },
     "execution_count": 60,
     "metadata": {},
     "output_type": "execute_result"
    }
   ],
   "source": [
    "#main\n",
    "OR = {\n",
    "    \"x1\": [0,0,1,1],\n",
    "    \"x2\": [0,1,0,1],\n",
    "    \"y\": [0,1,1,1]\n",
    "}\n",
    "df_OR = pd.DataFrame(OR)\n",
    "df_OR"
   ]
  },
  {
   "cell_type": "code",
   "execution_count": 61,
   "id": "c30706a4",
   "metadata": {},
   "outputs": [],
   "source": [
    "#main\n",
    "def prepare_data(df, target_col=\"y\"):\n",
    "    x = df.drop(target_col,axis=1)\n",
    "    y = df[target_col]\n",
    "    return x, y"
   ]
  },
  {
   "cell_type": "code",
   "execution_count": 62,
   "id": "818b7b8f",
   "metadata": {
    "scrolled": false
   },
   "outputs": [
    {
     "name": "stdout",
     "output_type": "stream",
     "text": [
      "x with bias :\n",
      "[[ 0.  0. -1.]\n",
      " [ 0.  1. -1.]\n",
      " [ 1.  0. -1.]\n",
      " [ 1.  1. -1.]]\n",
      "--------------------\n",
      "for epoch >> 1\n",
      "--------------------\n",
      "predicted value after the forward pass: \n",
      "[1 1 1 0]\n",
      "error : \n",
      "0   -1\n",
      "1    0\n",
      "2    0\n",
      "3    1\n",
      "Name: y, dtype: int64\n",
      "updated weight after epoch: 1/10: \n",
      "[ 9.99290022e-02  9.99839380e-02 -7.52435544e-05]\n",
      "$$$$$$$$$$$$$$$$$$$$\n",
      "--------------------\n",
      "for epoch >> 2\n",
      "--------------------\n",
      "predicted value after the forward pass: \n",
      "[1 1 1 1]\n",
      "error : \n",
      "0   -1\n",
      "1    0\n",
      "2    0\n",
      "3    0\n",
      "Name: y, dtype: int64\n",
      "updated weight after epoch: 2/10: \n",
      "[0.099929   0.09998394 0.09992476]\n",
      "$$$$$$$$$$$$$$$$$$$$\n",
      "--------------------\n",
      "for epoch >> 3\n",
      "--------------------\n",
      "predicted value after the forward pass: \n",
      "[0 1 1 1]\n",
      "error : \n",
      "0    0\n",
      "1    0\n",
      "2    0\n",
      "3    0\n",
      "Name: y, dtype: int64\n",
      "updated weight after epoch: 3/10: \n",
      "[0.099929   0.09998394 0.09992476]\n",
      "$$$$$$$$$$$$$$$$$$$$\n",
      "--------------------\n",
      "for epoch >> 4\n",
      "--------------------\n",
      "predicted value after the forward pass: \n",
      "[0 1 1 1]\n",
      "error : \n",
      "0    0\n",
      "1    0\n",
      "2    0\n",
      "3    0\n",
      "Name: y, dtype: int64\n",
      "updated weight after epoch: 4/10: \n",
      "[0.099929   0.09998394 0.09992476]\n",
      "$$$$$$$$$$$$$$$$$$$$\n",
      "--------------------\n",
      "for epoch >> 5\n",
      "--------------------\n",
      "predicted value after the forward pass: \n",
      "[0 1 1 1]\n",
      "error : \n",
      "0    0\n",
      "1    0\n",
      "2    0\n",
      "3    0\n",
      "Name: y, dtype: int64\n",
      "updated weight after epoch: 5/10: \n",
      "[0.099929   0.09998394 0.09992476]\n",
      "$$$$$$$$$$$$$$$$$$$$\n",
      "--------------------\n",
      "for epoch >> 6\n",
      "--------------------\n",
      "predicted value after the forward pass: \n",
      "[0 1 1 1]\n",
      "error : \n",
      "0    0\n",
      "1    0\n",
      "2    0\n",
      "3    0\n",
      "Name: y, dtype: int64\n",
      "updated weight after epoch: 6/10: \n",
      "[0.099929   0.09998394 0.09992476]\n",
      "$$$$$$$$$$$$$$$$$$$$\n",
      "--------------------\n",
      "for epoch >> 7\n",
      "--------------------\n",
      "predicted value after the forward pass: \n",
      "[0 1 1 1]\n",
      "error : \n",
      "0    0\n",
      "1    0\n",
      "2    0\n",
      "3    0\n",
      "Name: y, dtype: int64\n",
      "updated weight after epoch: 7/10: \n",
      "[0.099929   0.09998394 0.09992476]\n",
      "$$$$$$$$$$$$$$$$$$$$\n",
      "--------------------\n",
      "for epoch >> 8\n",
      "--------------------\n",
      "predicted value after the forward pass: \n",
      "[0 1 1 1]\n",
      "error : \n",
      "0    0\n",
      "1    0\n",
      "2    0\n",
      "3    0\n",
      "Name: y, dtype: int64\n",
      "updated weight after epoch: 8/10: \n",
      "[0.099929   0.09998394 0.09992476]\n",
      "$$$$$$$$$$$$$$$$$$$$\n",
      "--------------------\n",
      "for epoch >> 9\n",
      "--------------------\n",
      "predicted value after the forward pass: \n",
      "[0 1 1 1]\n",
      "error : \n",
      "0    0\n",
      "1    0\n",
      "2    0\n",
      "3    0\n",
      "Name: y, dtype: int64\n",
      "updated weight after epoch: 9/10: \n",
      "[0.099929   0.09998394 0.09992476]\n",
      "$$$$$$$$$$$$$$$$$$$$\n",
      "--------------------\n",
      "for epoch >> 10\n",
      "--------------------\n",
      "predicted value after the forward pass: \n",
      "[0 1 1 1]\n",
      "error : \n",
      "0    0\n",
      "1    0\n",
      "2    0\n",
      "3    0\n",
      "Name: y, dtype: int64\n",
      "updated weight after epoch: 10/10: \n",
      "[0.099929   0.09998394 0.09992476]\n",
      "$$$$$$$$$$$$$$$$$$$$\n"
     ]
    }
   ],
   "source": [
    "#main\n",
    "x, y = prepare_data(df_OR)\n",
    "\n",
    "ETA = 0.1\n",
    "EPOCHS = 10\n",
    "\n",
    "model_or = perceptron(eta=ETA, epochs=EPOCHS)\n",
    "\n",
    "model_or.fit(x,y)"
   ]
  },
  {
   "cell_type": "code",
   "execution_count": 63,
   "id": "96348bfc",
   "metadata": {
    "scrolled": true
   },
   "outputs": [
    {
     "name": "stdout",
     "output_type": "stream",
     "text": [
      "x with bias :\n",
      "[[ 0.  0. -1.]\n",
      " [ 0.  1. -1.]\n",
      " [ 1.  0. -1.]\n",
      " [ 1.  1. -1.]]\n",
      "--------------------\n",
      "for epoch >> 1\n",
      "--------------------\n",
      "predicted value after the forward pass: \n",
      "[1 1 0 1]\n",
      "error : \n",
      "0   -1\n",
      "1    0\n",
      "2    1\n",
      "3   -1\n",
      "Name: y, dtype: int64\n",
      "updated weight after epoch: 1/10: \n",
      "[-7.88672746e-06 -9.98778858e-02  9.99968855e-02]\n",
      "$$$$$$$$$$$$$$$$$$$$\n",
      "--------------------\n",
      "for epoch >> 2\n",
      "--------------------\n",
      "predicted value after the forward pass: \n",
      "[0 0 0 0]\n",
      "error : \n",
      "0    0\n",
      "1    1\n",
      "2    1\n",
      "3    0\n",
      "Name: y, dtype: int64\n",
      "updated weight after epoch: 2/10: \n",
      "[ 0.09999211  0.00012211 -0.10000311]\n",
      "$$$$$$$$$$$$$$$$$$$$\n",
      "--------------------\n",
      "for epoch >> 3\n",
      "--------------------\n",
      "predicted value after the forward pass: \n",
      "[1 1 1 1]\n",
      "error : \n",
      "0   -1\n",
      "1    0\n",
      "2    0\n",
      "3   -1\n",
      "Name: y, dtype: int64\n",
      "updated weight after epoch: 3/10: \n",
      "[-7.88672746e-06 -9.98778858e-02  9.99968855e-02]\n",
      "$$$$$$$$$$$$$$$$$$$$\n",
      "--------------------\n",
      "for epoch >> 4\n",
      "--------------------\n",
      "predicted value after the forward pass: \n",
      "[0 0 0 0]\n",
      "error : \n",
      "0    0\n",
      "1    1\n",
      "2    1\n",
      "3    0\n",
      "Name: y, dtype: int64\n",
      "updated weight after epoch: 4/10: \n",
      "[ 0.09999211  0.00012211 -0.10000311]\n",
      "$$$$$$$$$$$$$$$$$$$$\n",
      "--------------------\n",
      "for epoch >> 5\n",
      "--------------------\n",
      "predicted value after the forward pass: \n",
      "[1 1 1 1]\n",
      "error : \n",
      "0   -1\n",
      "1    0\n",
      "2    0\n",
      "3   -1\n",
      "Name: y, dtype: int64\n",
      "updated weight after epoch: 5/10: \n",
      "[-7.88672746e-06 -9.98778858e-02  9.99968855e-02]\n",
      "$$$$$$$$$$$$$$$$$$$$\n",
      "--------------------\n",
      "for epoch >> 6\n",
      "--------------------\n",
      "predicted value after the forward pass: \n",
      "[0 0 0 0]\n",
      "error : \n",
      "0    0\n",
      "1    1\n",
      "2    1\n",
      "3    0\n",
      "Name: y, dtype: int64\n",
      "updated weight after epoch: 6/10: \n",
      "[ 0.09999211  0.00012211 -0.10000311]\n",
      "$$$$$$$$$$$$$$$$$$$$\n",
      "--------------------\n",
      "for epoch >> 7\n",
      "--------------------\n",
      "predicted value after the forward pass: \n",
      "[1 1 1 1]\n",
      "error : \n",
      "0   -1\n",
      "1    0\n",
      "2    0\n",
      "3   -1\n",
      "Name: y, dtype: int64\n",
      "updated weight after epoch: 7/10: \n",
      "[-7.88672746e-06 -9.98778858e-02  9.99968855e-02]\n",
      "$$$$$$$$$$$$$$$$$$$$\n",
      "--------------------\n",
      "for epoch >> 8\n",
      "--------------------\n",
      "predicted value after the forward pass: \n",
      "[0 0 0 0]\n",
      "error : \n",
      "0    0\n",
      "1    1\n",
      "2    1\n",
      "3    0\n",
      "Name: y, dtype: int64\n",
      "updated weight after epoch: 8/10: \n",
      "[ 0.09999211  0.00012211 -0.10000311]\n",
      "$$$$$$$$$$$$$$$$$$$$\n",
      "--------------------\n",
      "for epoch >> 9\n",
      "--------------------\n",
      "predicted value after the forward pass: \n",
      "[1 1 1 1]\n",
      "error : \n",
      "0   -1\n",
      "1    0\n",
      "2    0\n",
      "3   -1\n",
      "Name: y, dtype: int64\n",
      "updated weight after epoch: 9/10: \n",
      "[-7.88672746e-06 -9.98778858e-02  9.99968855e-02]\n",
      "$$$$$$$$$$$$$$$$$$$$\n",
      "--------------------\n",
      "for epoch >> 10\n",
      "--------------------\n",
      "predicted value after the forward pass: \n",
      "[0 0 0 0]\n",
      "error : \n",
      "0    0\n",
      "1    1\n",
      "2    1\n",
      "3    0\n",
      "Name: y, dtype: int64\n",
      "updated weight after epoch: 10/10: \n",
      "[ 0.09999211  0.00012211 -0.10000311]\n",
      "$$$$$$$$$$$$$$$$$$$$\n"
     ]
    }
   ],
   "source": [
    "# XOR\n",
    "XOR = {\n",
    "    \"x1\": [0,0,1,1],\n",
    "    \"x2\": [0,1,0,1],\n",
    "    \"y\": [0,1,1,0]\n",
    "}\n",
    "\n",
    "df_xor = pd.DataFrame(XOR)\n",
    "df_xor\n",
    "\n",
    "x,y = prepare_data(df_xor)\n",
    "ETA = 0.1\n",
    "EPOCHS = 10\n",
    "\n",
    "model_xor = perceptron(eta=ETA,epochs=EPOCHS)\n",
    "\n",
    "model_xor.fit(x,y)"
   ]
  },
  {
   "cell_type": "code",
   "execution_count": null,
   "id": "28f72ecc",
   "metadata": {},
   "outputs": [],
   "source": []
  },
  {
   "cell_type": "markdown",
   "id": "a815f85e",
   "metadata": {},
   "source": [
    "# bits and pieces of the above code"
   ]
  },
  {
   "cell_type": "code",
   "execution_count": 58,
   "id": "6b7ad7fe",
   "metadata": {},
   "outputs": [
    {
     "data": {
      "text/plain": [
       "array([1])"
      ]
     },
     "execution_count": 58,
     "metadata": {},
     "output_type": "execute_result"
    }
   ],
   "source": [
    "model_or.predict(x=[[1,0]]) #OR gate"
   ]
  },
  {
   "cell_type": "code",
   "execution_count": 28,
   "id": "91afa173",
   "metadata": {},
   "outputs": [],
   "source": [
    "onj = perceptron(eta=0.01,epochs=10)"
   ]
  },
  {
   "cell_type": "code",
   "execution_count": 29,
   "id": "fd2ba720",
   "metadata": {},
   "outputs": [
    {
     "data": {
      "text/plain": [
       "0.01"
      ]
     },
     "execution_count": 29,
     "metadata": {},
     "output_type": "execute_result"
    }
   ],
   "source": [
    "onj.eta "
   ]
  },
  {
   "cell_type": "code",
   "execution_count": 31,
   "id": "1ea37961",
   "metadata": {},
   "outputs": [
    {
     "data": {
      "text/plain": [
       "(10, array([ 0.00015503,  0.00010663, -0.00012716]))"
      ]
     },
     "execution_count": 31,
     "metadata": {},
     "output_type": "execute_result"
    }
   ],
   "source": [
    "onj.epochs, onj.weights"
   ]
  },
  {
   "cell_type": "code",
   "execution_count": 7,
   "id": "8b3302ec",
   "metadata": {},
   "outputs": [
    {
     "data": {
      "text/plain": [
       "array([1.34070028, 0.20639187, 0.46149743])"
      ]
     },
     "execution_count": 7,
     "metadata": {},
     "output_type": "execute_result"
    }
   ],
   "source": [
    "np.random.randn(3)"
   ]
  },
  {
   "cell_type": "code",
   "execution_count": 24,
   "id": "eaa0c237",
   "metadata": {},
   "outputs": [
    {
     "data": {
      "text/plain": [
       "array([[-1.],\n",
       "       [-1.],\n",
       "       [-1.],\n",
       "       [-1.]])"
      ]
     },
     "execution_count": 24,
     "metadata": {},
     "output_type": "execute_result"
    }
   ],
   "source": [
    "-np.ones((4, 1))"
   ]
  },
  {
   "cell_type": "code",
   "execution_count": 23,
   "id": "909f2d61",
   "metadata": {},
   "outputs": [
    {
     "data": {
      "text/plain": [
       "array([[1., 1.],\n",
       "       [1., 1.],\n",
       "       [1., 1.],\n",
       "       [1., 1.]])"
      ]
     },
     "execution_count": 23,
     "metadata": {},
     "output_type": "execute_result"
    }
   ],
   "source": [
    "x = np.ones((4,2))\n",
    "x"
   ]
  },
  {
   "cell_type": "code",
   "execution_count": 32,
   "id": "c256db9e",
   "metadata": {},
   "outputs": [],
   "source": [
    "y = np.ones((4,1))"
   ]
  },
  {
   "cell_type": "code",
   "execution_count": 25,
   "id": "7d1fdd91",
   "metadata": {},
   "outputs": [
    {
     "data": {
      "text/plain": [
       "array([[ 1.,  1., -1.],\n",
       "       [ 1.,  1., -1.],\n",
       "       [ 1.,  1., -1.],\n",
       "       [ 1.,  1., -1.]])"
      ]
     },
     "execution_count": 25,
     "metadata": {},
     "output_type": "execute_result"
    }
   ],
   "source": [
    "np.c_[x,-np.ones((4, 1))]"
   ]
  },
  {
   "cell_type": "code",
   "execution_count": 33,
   "id": "7926ac45",
   "metadata": {},
   "outputs": [
    {
     "name": "stdout",
     "output_type": "stream",
     "text": [
      "x with bias :\n",
      "[[ 1.  1. -1.]\n",
      " [ 1.  1. -1.]\n",
      " [ 1.  1. -1.]\n",
      " [ 1.  1. -1.]]\n"
     ]
    }
   ],
   "source": [
    "onj.fit(x,y)"
   ]
  },
  {
   "cell_type": "code",
   "execution_count": 40,
   "id": "a78d88d8",
   "metadata": {},
   "outputs": [
    {
     "data": {
      "text/plain": [
       "array(1)"
      ]
     },
     "execution_count": 40,
     "metadata": {},
     "output_type": "execute_result"
    }
   ],
   "source": [
    "z = 5\n",
    "np.where(z>0, 1, 0)"
   ]
  },
  {
   "cell_type": "code",
   "execution_count": 43,
   "id": "2837883d",
   "metadata": {},
   "outputs": [
    {
     "name": "stdout",
     "output_type": "stream",
     "text": [
      "training:'forward + backword' , prediction: 'only forward'\n"
     ]
    }
   ],
   "source": [
    "print(\"training:'forward + backword' , prediction: 'only forward'\")"
   ]
  },
  {
   "cell_type": "code",
   "execution_count": 47,
   "id": "3c1e3e61",
   "metadata": {},
   "outputs": [],
   "source": [
    "x, y = prepare_data(df_OR)"
   ]
  },
  {
   "cell_type": "code",
   "execution_count": 48,
   "id": "b9234a89",
   "metadata": {},
   "outputs": [
    {
     "data": {
      "text/html": [
       "<div>\n",
       "<style scoped>\n",
       "    .dataframe tbody tr th:only-of-type {\n",
       "        vertical-align: middle;\n",
       "    }\n",
       "\n",
       "    .dataframe tbody tr th {\n",
       "        vertical-align: top;\n",
       "    }\n",
       "\n",
       "    .dataframe thead th {\n",
       "        text-align: right;\n",
       "    }\n",
       "</style>\n",
       "<table border=\"1\" class=\"dataframe\">\n",
       "  <thead>\n",
       "    <tr style=\"text-align: right;\">\n",
       "      <th></th>\n",
       "      <th>x1</th>\n",
       "      <th>x2</th>\n",
       "    </tr>\n",
       "  </thead>\n",
       "  <tbody>\n",
       "    <tr>\n",
       "      <th>0</th>\n",
       "      <td>0</td>\n",
       "      <td>0</td>\n",
       "    </tr>\n",
       "    <tr>\n",
       "      <th>1</th>\n",
       "      <td>0</td>\n",
       "      <td>1</td>\n",
       "    </tr>\n",
       "    <tr>\n",
       "      <th>2</th>\n",
       "      <td>1</td>\n",
       "      <td>0</td>\n",
       "    </tr>\n",
       "    <tr>\n",
       "      <th>3</th>\n",
       "      <td>1</td>\n",
       "      <td>1</td>\n",
       "    </tr>\n",
       "  </tbody>\n",
       "</table>\n",
       "</div>"
      ],
      "text/plain": [
       "   x1  x2\n",
       "0   0   0\n",
       "1   0   1\n",
       "2   1   0\n",
       "3   1   1"
      ]
     },
     "execution_count": 48,
     "metadata": {},
     "output_type": "execute_result"
    }
   ],
   "source": [
    "x"
   ]
  },
  {
   "cell_type": "code",
   "execution_count": 49,
   "id": "872c2369",
   "metadata": {},
   "outputs": [
    {
     "data": {
      "text/plain": [
       "0    0\n",
       "1    1\n",
       "2    1\n",
       "3    1\n",
       "Name: y, dtype: int64"
      ]
     },
     "execution_count": 49,
     "metadata": {},
     "output_type": "execute_result"
    }
   ],
   "source": [
    "y"
   ]
  },
  {
   "cell_type": "code",
   "execution_count": null,
   "id": "d4e7cfeb",
   "metadata": {},
   "outputs": [],
   "source": []
  }
 ],
 "metadata": {
  "kernelspec": {
   "display_name": "Python 3 (ipykernel)",
   "language": "python",
   "name": "python3"
  },
  "language_info": {
   "codemirror_mode": {
    "name": "ipython",
    "version": 3
   },
   "file_extension": ".py",
   "mimetype": "text/x-python",
   "name": "python",
   "nbconvert_exporter": "python",
   "pygments_lexer": "ipython3",
   "version": "3.7.0"
  }
 },
 "nbformat": 4,
 "nbformat_minor": 5
}
