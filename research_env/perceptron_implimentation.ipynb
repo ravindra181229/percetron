{
 "cells": [
  {
   "cell_type": "code",
   "execution_count": 5,
   "id": "21460b4a",
   "metadata": {},
   "outputs": [],
   "source": [
    "import os\n",
    "import matplotlib.pyplot as plt\n",
    "import pandas \n",
    "import numpy as np\n",
    "import joblib\n",
    "\n",
    "plt.style.use(\"fivethirtyeight\")"
   ]
  },
  {
   "cell_type": "code",
   "execution_count": 6,
   "id": "1ee21292",
   "metadata": {},
   "outputs": [
    {
     "name": "stdout",
     "output_type": "stream",
     "text": [
      "Requirement already satisfied: joblib in c:\\users\\snopy\\favorites\\downloads\\new folder\\day-02\\percetron\\env\\lib\\site-packages (1.1.0)\n"
     ]
    }
   ],
   "source": [
    "!pip install joblib"
   ]
  },
  {
   "cell_type": "code",
   "execution_count": 27,
   "id": "744171da",
   "metadata": {},
   "outputs": [],
   "source": [
    "class perceptron:\n",
    "    \n",
    "    def __init__(self,eta: float=None,epochs: int=None):\n",
    "        self.weights = np.random.randn(3) * 1e-4\n",
    "        self.eta = eta #learning rate\n",
    "        self.epochs = epochs #iterations\n",
    "        \n",
    "    def fit(self,x,y):\n",
    "        self.x = x\n",
    "        self.y = y\n",
    "        \n",
    "        x_with_bias = np.c_[self.x,-np.ones((len(self.x), 1))]\n",
    "        print(f\"x with bias :\\n{x_with_bias}\")\n",
    "        "
   ]
  },
  {
   "cell_type": "code",
   "execution_count": 28,
   "id": "ed1e8111",
   "metadata": {},
   "outputs": [],
   "source": [
    "onj = perceptron(eta=0.01,epochs=10)"
   ]
  },
  {
   "cell_type": "code",
   "execution_count": 29,
   "id": "08d2ce33",
   "metadata": {},
   "outputs": [
    {
     "data": {
      "text/plain": [
       "0.01"
      ]
     },
     "execution_count": 29,
     "metadata": {},
     "output_type": "execute_result"
    }
   ],
   "source": [
    "onj.eta "
   ]
  },
  {
   "cell_type": "code",
   "execution_count": 31,
   "id": "0fb7af9e",
   "metadata": {},
   "outputs": [
    {
     "data": {
      "text/plain": [
       "(10, array([ 0.00015503,  0.00010663, -0.00012716]))"
      ]
     },
     "execution_count": 31,
     "metadata": {},
     "output_type": "execute_result"
    }
   ],
   "source": [
    "onj.epochs, onj.weights"
   ]
  },
  {
   "cell_type": "code",
   "execution_count": 7,
   "id": "8b3302ec",
   "metadata": {},
   "outputs": [
    {
     "data": {
      "text/plain": [
       "array([1.34070028, 0.20639187, 0.46149743])"
      ]
     },
     "execution_count": 7,
     "metadata": {},
     "output_type": "execute_result"
    }
   ],
   "source": [
    "np.random.randn(3)"
   ]
  },
  {
   "cell_type": "code",
   "execution_count": 24,
   "id": "eaa0c237",
   "metadata": {},
   "outputs": [
    {
     "data": {
      "text/plain": [
       "array([[-1.],\n",
       "       [-1.],\n",
       "       [-1.],\n",
       "       [-1.]])"
      ]
     },
     "execution_count": 24,
     "metadata": {},
     "output_type": "execute_result"
    }
   ],
   "source": [
    "-np.ones((4, 1))"
   ]
  },
  {
   "cell_type": "code",
   "execution_count": 23,
   "id": "e073a005",
   "metadata": {},
   "outputs": [
    {
     "data": {
      "text/plain": [
       "array([[1., 1.],\n",
       "       [1., 1.],\n",
       "       [1., 1.],\n",
       "       [1., 1.]])"
      ]
     },
     "execution_count": 23,
     "metadata": {},
     "output_type": "execute_result"
    }
   ],
   "source": [
    "x = np.ones((4,2))\n",
    "x"
   ]
  },
  {
   "cell_type": "code",
   "execution_count": null,
   "id": "d586bed0",
   "metadata": {},
   "outputs": [],
   "source": [
    "y = np.ones((4,1))"
   ]
  },
  {
   "cell_type": "code",
   "execution_count": 25,
   "id": "49dd58e2",
   "metadata": {},
   "outputs": [
    {
     "data": {
      "text/plain": [
       "array([[ 1.,  1., -1.],\n",
       "       [ 1.,  1., -1.],\n",
       "       [ 1.,  1., -1.],\n",
       "       [ 1.,  1., -1.]])"
      ]
     },
     "execution_count": 25,
     "metadata": {},
     "output_type": "execute_result"
    }
   ],
   "source": [
    "np.c_[x,-np.ones((4, 1))]"
   ]
  },
  {
   "cell_type": "code",
   "execution_count": null,
   "id": "1b5f3a3f",
   "metadata": {},
   "outputs": [],
   "source": []
  }
 ],
 "metadata": {
  "kernelspec": {
   "display_name": "Python 3 (ipykernel)",
   "language": "python",
   "name": "python3"
  },
  "language_info": {
   "codemirror_mode": {
    "name": "ipython",
    "version": 3
   },
   "file_extension": ".py",
   "mimetype": "text/x-python",
   "name": "python",
   "nbconvert_exporter": "python",
   "pygments_lexer": "ipython3",
   "version": "3.7.0"
  }
 },
 "nbformat": 4,
 "nbformat_minor": 5
}
